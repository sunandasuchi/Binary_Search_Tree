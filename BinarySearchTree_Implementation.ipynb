{
  "nbformat": 4,
  "nbformat_minor": 0,
  "metadata": {
    "colab": {
      "name": "BinarySearchTree_Implementation.ipynb",
      "provenance": []
    },
    "kernelspec": {
      "name": "python3",
      "display_name": "Python 3"
    }
  },
  "cells": [
    {
      "cell_type": "markdown",
      "metadata": {
        "id": "zZXsDrZUqCwg"
      },
      "source": [
        "### **Binary Search Tree Implementation**"
      ]
    },
    {
      "cell_type": "code",
      "metadata": {
        "id": "ky9hFHrxCaYP"
      },
      "source": [
        "class Node:\r\n",
        "  def __init__(self, data):\r\n",
        "    self.data = data\r\n",
        "    self.right = None\r\n",
        "    self.left = None\r\n",
        "    "
      ],
      "execution_count": 1,
      "outputs": []
    },
    {
      "cell_type": "code",
      "metadata": {
        "id": "B1z4ucq_Cs5E"
      },
      "source": [
        "class BinarySearchTree:\r\n",
        "  def __init__(self):\r\n",
        "    self.root = None\r\n",
        "    self.level = 0\r\n",
        "\r\n",
        "  def insert(self, data):\r\n",
        "    node1 = Node(data)\r\n",
        "    \r\n",
        "    if self.root == None:\r\n",
        "      self.root = node1\r\n",
        "      return\r\n",
        "    else:\r\n",
        "      current = self.root\r\n",
        "      while True:\r\n",
        "        if data < current.data:\r\n",
        "          if current.left == None:\r\n",
        "            current.left = node1\r\n",
        "            return\r\n",
        "          else:\r\n",
        "            current = current.left\r\n",
        "\r\n",
        "        if data >= current.data:\r\n",
        "          if current.right == None:\r\n",
        "            current.right = node1\r\n",
        "            return\r\n",
        "          else:\r\n",
        "            current = current.right \r\n",
        "\r\n",
        "  def lookup(self, data):\r\n",
        "    current = self.root\r\n",
        "\r\n",
        "    while True:\r\n",
        "      if current == None:\r\n",
        "       return False\r\n",
        "      \r\n",
        "      if current.data == data:\r\n",
        "        return True\r\n",
        "      \r\n",
        "      elif data > current.data:\r\n",
        "        current = current.right\r\n",
        "      \r\n",
        "      else: \r\n",
        "        current = current.left \r\n",
        "\r\n",
        "\r\n",
        "\r\n",
        "\r\n",
        "\r\n",
        "\r\n",
        "  def print_tree(self):\r\n",
        "    if self.root != None:\r\n",
        "      self.printt(self.root)\r\n",
        "#Inorder Traversal (We get sorted order of elements in tree)\r\n",
        "\r\n",
        "  def printt(self,curr_node):\r\n",
        "    if curr_node != None:\r\n",
        "      self.printt(curr_node.left)\r\n",
        "      print(str(curr_node.data))\r\n",
        "      self.printt(curr_node.right)"
      ],
      "execution_count": 36,
      "outputs": []
    },
    {
      "cell_type": "code",
      "metadata": {
        "colab": {
          "base_uri": "https://localhost:8080/"
        },
        "id": "uuOSgzt6Cs6m",
        "outputId": "6e4105e1-f576-4123-e9fb-c06931231a72"
      },
      "source": [
        "bst = BinarySearchTree()\r\n",
        "bst.insert(10)\r\n",
        "bst.insert(5)\r\n",
        "bst.insert(6)\r\n",
        "bst.insert(12)\r\n",
        "bst.insert(8)\r\n",
        "x = bst.lookup(6)\r\n",
        "print(x)\r\n",
        "y = bst.lookup(99)\r\n",
        "print(y)\r\n"
      ],
      "execution_count": 37,
      "outputs": [
        {
          "output_type": "stream",
          "text": [
            "True\n",
            "False\n"
          ],
          "name": "stdout"
        }
      ]
    }
  ]
}